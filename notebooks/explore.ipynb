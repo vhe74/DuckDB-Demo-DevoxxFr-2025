{
 "cells": [
  {
   "cell_type": "code",
   "execution_count": 2,
   "id": "b7fdd8df",
   "metadata": {},
   "outputs": [
    {
     "name": "stdout",
     "output_type": "stream",
     "text": [
      "Intel MKL WARNING: Support of Intel(R) Streaming SIMD Extensions 4.2 (Intel(R) SSE4.2) enabled only processors has been deprecated. Intel oneAPI Math Kernel Library 2025.0 will require Intel(R) Advanced Vector Extensions (Intel(R) AVX) instructions.\n",
      "Intel MKL WARNING: Support of Intel(R) Streaming SIMD Extensions 4.2 (Intel(R) SSE4.2) enabled only processors has been deprecated. Intel oneAPI Math Kernel Library 2025.0 will require Intel(R) Advanced Vector Extensions (Intel(R) AVX) instructions.\n"
     ]
    }
   ],
   "source": [
    "import duckdb\n",
    "import pandas as pd\n",
    "import pyarrow as pa"
   ]
  },
  {
   "cell_type": "code",
   "execution_count": 11,
   "id": "6fa233d7",
   "metadata": {},
   "outputs": [],
   "source": [
    "dbpath = \"../data/bike.db\" \n",
    "\n",
    "# create a duckdb database\n",
    "con = duckdb.connect(dbpath)"
   ]
  },
  {
   "cell_type": "code",
   "execution_count": 17,
   "id": "d5ca7f17",
   "metadata": {},
   "outputs": [],
   "source": [
    "con.close()"
   ]
  },
  {
   "cell_type": "code",
   "execution_count": 7,
   "id": "f267b322",
   "metadata": {},
   "outputs": [
    {
     "data": {
      "text/plain": [
       "[('ride_id', 'VARCHAR', 'YES', None, None, None),\n",
       " ('rideable_type', 'VARCHAR', 'YES', None, None, None),\n",
       " ('started_at', 'TIMESTAMP', 'YES', None, None, None),\n",
       " ('ended_at', 'TIMESTAMP', 'YES', None, None, None),\n",
       " ('start_station_name', 'VARCHAR', 'YES', None, None, None),\n",
       " ('start_station_id', 'VARCHAR', 'YES', None, None, None),\n",
       " ('end_station_name', 'VARCHAR', 'YES', None, None, None),\n",
       " ('end_station_id', 'VARCHAR', 'YES', None, None, None),\n",
       " ('start_lat', 'DOUBLE', 'YES', None, None, None),\n",
       " ('start_lng', 'DOUBLE', 'YES', None, None, None),\n",
       " ('end_lat', 'DOUBLE', 'YES', None, None, None),\n",
       " ('end_lng', 'DOUBLE', 'YES', None, None, None),\n",
       " ('member_casual', 'VARCHAR', 'YES', None, None, None),\n",
       " ('filename', 'VARCHAR', 'YES', None, None, None)]"
      ]
     },
     "execution_count": 7,
     "metadata": {},
     "output_type": "execute_result"
    }
   ],
   "source": [
    "con.execute(\"DESCRIBE trips_view\").fetchall()"
   ]
  },
  {
   "cell_type": "code",
   "execution_count": null,
   "id": "95032941",
   "metadata": {},
   "outputs": [],
   "source": []
  },
  {
   "cell_type": "code",
   "execution_count": 8,
   "id": "bc2d3b42",
   "metadata": {},
   "outputs": [
    {
     "data": {
      "text/plain": [
       "[(199316,)]"
      ]
     },
     "execution_count": 8,
     "metadata": {},
     "output_type": "execute_result"
    }
   ],
   "source": [
    "stationId = \"5788.12\"\n",
    "\n",
    "con.execute(f\"\"\" SELECT COUNT(*) FROM trips_view WHERE start_station_id = '{stationId}' \"\"\").fetchall()"
   ]
  },
  {
   "cell_type": "code",
   "execution_count": null,
   "id": "e1cfd316",
   "metadata": {},
   "outputs": [
    {
     "data": {
      "text/html": [
       "<div>\n",
       "<style scoped>\n",
       "    .dataframe tbody tr th:only-of-type {\n",
       "        vertical-align: middle;\n",
       "    }\n",
       "\n",
       "    .dataframe tbody tr th {\n",
       "        vertical-align: top;\n",
       "    }\n",
       "\n",
       "    .dataframe thead th {\n",
       "        text-align: right;\n",
       "    }\n",
       "</style>\n",
       "<table border=\"1\" class=\"dataframe\">\n",
       "  <thead>\n",
       "    <tr style=\"text-align: right;\">\n",
       "      <th></th>\n",
       "      <th>start_station_name</th>\n",
       "    </tr>\n",
       "  </thead>\n",
       "  <tbody>\n",
       "    <tr>\n",
       "      <th>0</th>\n",
       "      <td>Broadway &amp; W 53 St</td>\n",
       "    </tr>\n",
       "    <tr>\n",
       "      <th>1</th>\n",
       "      <td>W 25 St &amp; 6 Ave</td>\n",
       "    </tr>\n",
       "    <tr>\n",
       "      <th>2</th>\n",
       "      <td>E 115 St &amp; Lexington Ave</td>\n",
       "    </tr>\n",
       "    <tr>\n",
       "      <th>3</th>\n",
       "      <td>E 97 St &amp; 3 Ave</td>\n",
       "    </tr>\n",
       "    <tr>\n",
       "      <th>4</th>\n",
       "      <td>Wilson Ave &amp; Moffat St</td>\n",
       "    </tr>\n",
       "    <tr>\n",
       "      <th>...</th>\n",
       "      <td>...</td>\n",
       "    </tr>\n",
       "    <tr>\n",
       "      <th>2552</th>\n",
       "      <td>E New York Ave &amp; Utica Ave</td>\n",
       "    </tr>\n",
       "    <tr>\n",
       "      <th>2553</th>\n",
       "      <td>92 St &amp; 23 Ave</td>\n",
       "    </tr>\n",
       "    <tr>\n",
       "      <th>2554</th>\n",
       "      <td>Heights Elevator</td>\n",
       "    </tr>\n",
       "    <tr>\n",
       "      <th>2555</th>\n",
       "      <td>JC Medical Center</td>\n",
       "    </tr>\n",
       "    <tr>\n",
       "      <th>2556</th>\n",
       "      <td>S 5th St &amp; Kent Ave (Domino Park Movie Shoot)</td>\n",
       "    </tr>\n",
       "  </tbody>\n",
       "</table>\n",
       "<p>2557 rows × 1 columns</p>\n",
       "</div>"
      ],
      "text/plain": [
       "                                 start_station_name\n",
       "0                                Broadway & W 53 St\n",
       "1                                   W 25 St & 6 Ave\n",
       "2                          E 115 St & Lexington Ave\n",
       "3                                   E 97 St & 3 Ave\n",
       "4                            Wilson Ave & Moffat St\n",
       "...                                             ...\n",
       "2552                     E New York Ave & Utica Ave\n",
       "2553                                 92 St & 23 Ave\n",
       "2554                               Heights Elevator\n",
       "2555                              JC Medical Center\n",
       "2556  S 5th St & Kent Ave (Domino Park Movie Shoot)\n",
       "\n",
       "[2557 rows x 1 columns]"
      ]
     },
     "execution_count": 15,
     "metadata": {},
     "output_type": "execute_result"
    }
   ],
   "source": [
    "AllStationsNames = con.execute(f\"\"\" \n",
    "SELECT DISTINCT start_station_name\n",
    "FROM trips_view\n",
    "\"\"\").df()\n",
    "AllStationsNames"
   ]
  },
  {
   "cell_type": "code",
   "execution_count": null,
   "id": "d853e5b2",
   "metadata": {},
   "outputs": [
    {
     "data": {
      "application/vnd.jupyter.widget-view+json": {
       "model_id": "4ed4ab1fda0847a2a40750511a1b780f",
       "version_major": 2,
       "version_minor": 0
      },
      "text/plain": [
       "FloatProgress(value=0.0, layout=Layout(width='auto'), style=ProgressStyle(bar_color='black'))"
      ]
     },
     "metadata": {},
     "output_type": "display_data"
    },
    {
     "data": {
      "text/html": [
       "<div>\n",
       "<style scoped>\n",
       "    .dataframe tbody tr th:only-of-type {\n",
       "        vertical-align: middle;\n",
       "    }\n",
       "\n",
       "    .dataframe tbody tr th {\n",
       "        vertical-align: top;\n",
       "    }\n",
       "\n",
       "    .dataframe thead th {\n",
       "        text-align: right;\n",
       "    }\n",
       "</style>\n",
       "<table border=\"1\" class=\"dataframe\">\n",
       "  <thead>\n",
       "    <tr style=\"text-align: right;\">\n",
       "      <th></th>\n",
       "      <th>start_station_name</th>\n",
       "      <th>start_lat</th>\n",
       "      <th>start_lng</th>\n",
       "    </tr>\n",
       "  </thead>\n",
       "  <tbody>\n",
       "    <tr>\n",
       "      <th>0</th>\n",
       "      <td>St Nicholas Ave &amp; Manhattan Ave</td>\n",
       "      <td>40.809725</td>\n",
       "      <td>-73.953149</td>\n",
       "    </tr>\n",
       "    <tr>\n",
       "      <th>1</th>\n",
       "      <td>E 82 St &amp; East End Ave</td>\n",
       "      <td>40.772461</td>\n",
       "      <td>-73.946821</td>\n",
       "    </tr>\n",
       "    <tr>\n",
       "      <th>2</th>\n",
       "      <td>E 97 St &amp; Madison Ave</td>\n",
       "      <td>40.787801</td>\n",
       "      <td>-73.953559</td>\n",
       "    </tr>\n",
       "    <tr>\n",
       "      <th>3</th>\n",
       "      <td>W 49 St &amp; 8 Ave</td>\n",
       "      <td>40.762272</td>\n",
       "      <td>-73.987882</td>\n",
       "    </tr>\n",
       "    <tr>\n",
       "      <th>4</th>\n",
       "      <td>Broadway &amp; W 122 St</td>\n",
       "      <td>40.812056</td>\n",
       "      <td>-73.961255</td>\n",
       "    </tr>\n",
       "    <tr>\n",
       "      <th>...</th>\n",
       "      <td>...</td>\n",
       "      <td>...</td>\n",
       "      <td>...</td>\n",
       "    </tr>\n",
       "    <tr>\n",
       "      <th>31011736</th>\n",
       "      <td>Bayard St &amp; Leonard St</td>\n",
       "      <td>40.719161</td>\n",
       "      <td>-73.948989</td>\n",
       "    </tr>\n",
       "    <tr>\n",
       "      <th>31011737</th>\n",
       "      <td>Bedford Ave &amp; Nassau Ave</td>\n",
       "      <td>40.723174</td>\n",
       "      <td>-73.951787</td>\n",
       "    </tr>\n",
       "    <tr>\n",
       "      <th>31011738</th>\n",
       "      <td>Atlantic Ave &amp; Furman St</td>\n",
       "      <td>40.691658</td>\n",
       "      <td>-74.000023</td>\n",
       "    </tr>\n",
       "    <tr>\n",
       "      <th>31011739</th>\n",
       "      <td>5 Ave &amp; E 72 St</td>\n",
       "      <td>40.772839</td>\n",
       "      <td>-73.966879</td>\n",
       "    </tr>\n",
       "    <tr>\n",
       "      <th>31011740</th>\n",
       "      <td>E 16 St &amp; Irving Pl</td>\n",
       "      <td>40.735304</td>\n",
       "      <td>-73.988302</td>\n",
       "    </tr>\n",
       "  </tbody>\n",
       "</table>\n",
       "<p>31011741 rows × 3 columns</p>\n",
       "</div>"
      ],
      "text/plain": [
       "                       start_station_name  start_lat  start_lng\n",
       "0         St Nicholas Ave & Manhattan Ave  40.809725 -73.953149\n",
       "1                  E 82 St & East End Ave  40.772461 -73.946821\n",
       "2                   E 97 St & Madison Ave  40.787801 -73.953559\n",
       "3                         W 49 St & 8 Ave  40.762272 -73.987882\n",
       "4                     Broadway & W 122 St  40.812056 -73.961255\n",
       "...                                   ...        ...        ...\n",
       "31011736           Bayard St & Leonard St  40.719161 -73.948989\n",
       "31011737         Bedford Ave & Nassau Ave  40.723174 -73.951787\n",
       "31011738         Atlantic Ave & Furman St  40.691658 -74.000023\n",
       "31011739                  5 Ave & E 72 St  40.772839 -73.966879\n",
       "31011740              E 16 St & Irving Pl  40.735304 -73.988302\n",
       "\n",
       "[31011741 rows x 3 columns]"
      ]
     },
     "execution_count": 14,
     "metadata": {},
     "output_type": "execute_result"
    }
   ],
   "source": [
    "\n",
    "AllStationsLocations = con.execute(f\"\"\" \n",
    "SELECT DISTINCT start_station_name, start_lat, start_lng\n",
    "FROM trips_view\n",
    "WHERE start_lat IS NOT NULL AND start_lng IS NOT NULL;\n",
    "\"\"\").df()\n",
    "AllStationsLocations"
   ]
  },
  {
   "cell_type": "code",
   "execution_count": 16,
   "id": "1b57b909",
   "metadata": {},
   "outputs": [
    {
     "data": {
      "text/html": [
       "<div>\n",
       "<style scoped>\n",
       "    .dataframe tbody tr th:only-of-type {\n",
       "        vertical-align: middle;\n",
       "    }\n",
       "\n",
       "    .dataframe tbody tr th {\n",
       "        vertical-align: top;\n",
       "    }\n",
       "\n",
       "    .dataframe thead th {\n",
       "        text-align: right;\n",
       "    }\n",
       "</style>\n",
       "<table border=\"1\" class=\"dataframe\">\n",
       "  <thead>\n",
       "    <tr style=\"text-align: right;\">\n",
       "      <th></th>\n",
       "      <th>start_station_name</th>\n",
       "      <th>nb_departures</th>\n",
       "    </tr>\n",
       "  </thead>\n",
       "  <tbody>\n",
       "    <tr>\n",
       "      <th>0</th>\n",
       "      <td>W 21 St &amp; 6 Ave</td>\n",
       "      <td>689254</td>\n",
       "    </tr>\n",
       "    <tr>\n",
       "      <th>1</th>\n",
       "      <td>West St &amp; Chambers St</td>\n",
       "      <td>596355</td>\n",
       "    </tr>\n",
       "    <tr>\n",
       "      <th>2</th>\n",
       "      <td>University Pl &amp; E 14 St</td>\n",
       "      <td>526948</td>\n",
       "    </tr>\n",
       "    <tr>\n",
       "      <th>3</th>\n",
       "      <td>1 Ave &amp; E 68 St</td>\n",
       "      <td>525248</td>\n",
       "    </tr>\n",
       "    <tr>\n",
       "      <th>4</th>\n",
       "      <td>Broadway &amp; W 25 St</td>\n",
       "      <td>515312</td>\n",
       "    </tr>\n",
       "    <tr>\n",
       "      <th>5</th>\n",
       "      <td>Broadway &amp; E 14 St</td>\n",
       "      <td>514781</td>\n",
       "    </tr>\n",
       "    <tr>\n",
       "      <th>6</th>\n",
       "      <td>6 Ave &amp; W 33 St</td>\n",
       "      <td>503533</td>\n",
       "    </tr>\n",
       "    <tr>\n",
       "      <th>7</th>\n",
       "      <td>11 Ave &amp; W 41 St</td>\n",
       "      <td>492282</td>\n",
       "    </tr>\n",
       "    <tr>\n",
       "      <th>8</th>\n",
       "      <td>E 33 St &amp; 1 Ave</td>\n",
       "      <td>485506</td>\n",
       "    </tr>\n",
       "    <tr>\n",
       "      <th>9</th>\n",
       "      <td>12 Ave &amp; W 40 St</td>\n",
       "      <td>481761</td>\n",
       "    </tr>\n",
       "  </tbody>\n",
       "</table>\n",
       "</div>"
      ],
      "text/plain": [
       "        start_station_name  nb_departures\n",
       "0          W 21 St & 6 Ave         689254\n",
       "1    West St & Chambers St         596355\n",
       "2  University Pl & E 14 St         526948\n",
       "3          1 Ave & E 68 St         525248\n",
       "4       Broadway & W 25 St         515312\n",
       "5       Broadway & E 14 St         514781\n",
       "6          6 Ave & W 33 St         503533\n",
       "7         11 Ave & W 41 St         492282\n",
       "8          E 33 St & 1 Ave         485506\n",
       "9         12 Ave & W 40 St         481761"
      ]
     },
     "execution_count": 16,
     "metadata": {},
     "output_type": "execute_result"
    }
   ],
   "source": [
    "Hotspots = con.execute(f\"\"\"\n",
    "SELECT start_station_name, COUNT(*) AS nb_departures\n",
    "FROM trips_view\n",
    "GROUP BY start_station_name\n",
    "ORDER BY nb_departures DESC\n",
    "LIMIT 10;\n",
    "\"\"\").df()\n",
    "Hotspots"
   ]
  }
 ],
 "metadata": {
  "kernelspec": {
   "display_name": "py312",
   "language": "python",
   "name": "python3"
  },
  "language_info": {
   "codemirror_mode": {
    "name": "ipython",
    "version": 3
   },
   "file_extension": ".py",
   "mimetype": "text/x-python",
   "name": "python",
   "nbconvert_exporter": "python",
   "pygments_lexer": "ipython3",
   "version": "3.12.0"
  }
 },
 "nbformat": 4,
 "nbformat_minor": 5
}
