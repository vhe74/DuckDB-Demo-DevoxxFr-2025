{
 "cells": [
  {
   "cell_type": "code",
   "execution_count": null,
   "id": "60d836d9",
   "metadata": {},
   "outputs": [],
   "source": [
    "import os\n",
    "from zipfile import ZipFile\n",
    "import duckdb"
   ]
  },
  {
   "cell_type": "code",
   "execution_count": 42,
   "id": "b376aa97",
   "metadata": {},
   "outputs": [],
   "source": [
    "## 31 GB of CSV fiels 2020-01 to 2025-03\n",
    "# \n",
    "years = ['2020', '2021', '2022', '2023', '2024', '2025']\n",
    "root = \"../data/bike.csv\"\n",
    "dbpath = \"../data/bike.db\" \n",
    "\n",
    "# create a duckdb database\n",
    "con = duckdb.connect(dbpath)\n"
   ]
  },
  {
   "cell_type": "code",
   "execution_count": 12,
   "id": "bca7f4f5",
   "metadata": {},
   "outputs": [
    {
     "data": {
      "application/vnd.jupyter.widget-view+json": {
       "model_id": "af33e4ee90ff42f1b870f87e32a96971",
       "version_major": 2,
       "version_minor": 0
      },
      "text/plain": [
       "FloatProgress(value=0.0, layout=Layout(width='auto'), style=ProgressStyle(bar_color='black'))"
      ]
     },
     "metadata": {},
     "output_type": "display_data"
    },
    {
     "name": "stdout",
     "output_type": "stream",
     "text": [
      "┌──────────────┐\n",
      "│ count_star() │\n",
      "│    int64     │\n",
      "├──────────────┤\n",
      "│     19562314 │\n",
      "└──────────────┘\n",
      "\n"
     ]
    }
   ],
   "source": [
    "duckdb.sql(\"\"\"\n",
    "SELECT COUNT(*) FROM read_csv_auto('../data/bike.csv/2020/*.csv')\n",
    "\"\"\").show()"
   ]
  },
  {
   "cell_type": "code",
   "execution_count": 13,
   "id": "7c45ea36",
   "metadata": {},
   "outputs": [
    {
     "data": {
      "application/vnd.jupyter.widget-view+json": {
       "model_id": "ad5629955cc4406d82500e80b97e50b7",
       "version_major": 2,
       "version_minor": 0
      },
      "text/plain": [
       "FloatProgress(value=0.0, layout=Layout(width='auto'), style=ProgressStyle(bar_color='black'))"
      ]
     },
     "metadata": {},
     "output_type": "display_data"
    },
    {
     "name": "stdout",
     "output_type": "stream",
     "text": [
      "┌──────────────┐\n",
      "│ count_star() │\n",
      "│    int64     │\n",
      "├──────────────┤\n",
      "│    163361883 │\n",
      "└──────────────┘\n",
      "\n"
     ]
    }
   ],
   "source": [
    "duckdb.sql(\"\"\"\n",
    "SELECT COUNT(*) FROM read_csv_auto('../data/bike.csv/*/*.csv')\n",
    "\"\"\").show()"
   ]
  },
  {
   "cell_type": "code",
   "execution_count": null,
   "id": "3ad0c37d",
   "metadata": {},
   "outputs": [
    {
     "data": {
      "application/vnd.jupyter.widget-view+json": {
       "model_id": "5e9becb5b7bb4919aa92511b027b93a2",
       "version_major": 2,
       "version_minor": 0
      },
      "text/plain": [
       "FloatProgress(value=0.0, layout=Layout(width='auto'), style=ProgressStyle(bar_color='black'))"
      ]
     },
     "metadata": {},
     "output_type": "display_data"
    },
    {
     "data": {
      "application/vnd.jupyter.widget-view+json": {
       "model_id": "be1d29362e3648ddac09b1f263481183",
       "version_major": 2,
       "version_minor": 0
      },
      "text/plain": [
       "FloatProgress(value=0.0, layout=Layout(width='auto'), style=ProgressStyle(bar_color='black'))"
      ]
     },
     "metadata": {},
     "output_type": "display_data"
    },
    {
     "data": {
      "application/vnd.jupyter.widget-view+json": {
       "model_id": "1a8b06d846eb4222a76b1528a88241ce",
       "version_major": 2,
       "version_minor": 0
      },
      "text/plain": [
       "FloatProgress(value=0.0, layout=Layout(width='auto'), style=ProgressStyle(bar_color='black'))"
      ]
     },
     "metadata": {},
     "output_type": "display_data"
    },
    {
     "data": {
      "application/vnd.jupyter.widget-view+json": {
       "model_id": "ff2c661b412d4547884c130a82ad4a0a",
       "version_major": 2,
       "version_minor": 0
      },
      "text/plain": [
       "FloatProgress(value=0.0, layout=Layout(width='auto'), style=ProgressStyle(bar_color='black'))"
      ]
     },
     "metadata": {},
     "output_type": "display_data"
    },
    {
     "data": {
      "application/vnd.jupyter.widget-view+json": {
       "model_id": "e6eee0bf7cd945eeb1bb1fea512064da",
       "version_major": 2,
       "version_minor": 0
      },
      "text/plain": [
       "FloatProgress(value=0.0, layout=Layout(width='auto'), style=ProgressStyle(bar_color='black'))"
      ]
     },
     "metadata": {},
     "output_type": "display_data"
    },
    {
     "data": {
      "application/vnd.jupyter.widget-view+json": {
       "model_id": "f3ca900b0db045b588f5fec8a0f95443",
       "version_major": 2,
       "version_minor": 0
      },
      "text/plain": [
       "FloatProgress(value=0.0, layout=Layout(width='auto'), style=ProgressStyle(bar_color='black'))"
      ]
     },
     "metadata": {},
     "output_type": "display_data"
    },
    {
     "data": {
      "application/vnd.jupyter.widget-view+json": {
       "model_id": "8d6edc8de90f4d32bbddbab1a4fea3cb",
       "version_major": 2,
       "version_minor": 0
      },
      "text/plain": [
       "FloatProgress(value=0.0, layout=Layout(width='auto'), style=ProgressStyle(bar_color='black'))"
      ]
     },
     "metadata": {},
     "output_type": "display_data"
    },
    {
     "data": {
      "application/vnd.jupyter.widget-view+json": {
       "model_id": "609da07bc7a34d068c9b90e3637c6dbe",
       "version_major": 2,
       "version_minor": 0
      },
      "text/plain": [
       "FloatProgress(value=0.0, layout=Layout(width='auto'), style=ProgressStyle(bar_color='black'))"
      ]
     },
     "metadata": {},
     "output_type": "display_data"
    },
    {
     "data": {
      "application/vnd.jupyter.widget-view+json": {
       "model_id": "993490e453774bc28b218a187815f714",
       "version_major": 2,
       "version_minor": 0
      },
      "text/plain": [
       "FloatProgress(value=0.0, layout=Layout(width='auto'), style=ProgressStyle(bar_color='black'))"
      ]
     },
     "metadata": {},
     "output_type": "display_data"
    },
    {
     "data": {
      "application/vnd.jupyter.widget-view+json": {
       "model_id": "8aae5219fda54d43b896de8a799d8710",
       "version_major": 2,
       "version_minor": 0
      },
      "text/plain": [
       "FloatProgress(value=0.0, layout=Layout(width='auto'), style=ProgressStyle(bar_color='black'))"
      ]
     },
     "metadata": {},
     "output_type": "display_data"
    },
    {
     "data": {
      "application/vnd.jupyter.widget-view+json": {
       "model_id": "ced05a10c42a45e79a21cfe8b5ef3f86",
       "version_major": 2,
       "version_minor": 0
      },
      "text/plain": [
       "FloatProgress(value=0.0, layout=Layout(width='auto'), style=ProgressStyle(bar_color='black'))"
      ]
     },
     "metadata": {},
     "output_type": "display_data"
    }
   ],
   "source": [
    "\n",
    "for year in years:\n",
    "    con.execute(\"\"\"\n",
    "        CREATE OR REPLACE TABLE  stg_trips (\n",
    "            ride_id VARCHAR,\n",
    "            rideable_type VARCHAR,\n",
    "            started_at TIMESTAMP,\n",
    "            ended_at TIMESTAMP,\n",
    "            start_station_name VARCHAR,\n",
    "            start_station_id VARCHAR,\n",
    "            end_station_name VARCHAR,\n",
    "            end_station_id VARCHAR,\n",
    "            start_lat DOUBLE,\n",
    "            start_lng DOUBLE,\n",
    "            end_lat DOUBLE,\n",
    "            end_lng DOUBLE,\n",
    "            member_casual VARCHAR\n",
    "        );\n",
    "        \"\"\")\n",
    "    con.execute(f\"\"\"\n",
    "        COPY stg_trips FROM '../data/bike.csv/{year}/*.csv'\n",
    "        (DELIMITER ',', HEADER, NULL '', ENCODING 'utf8');\n",
    "        \"\"\")\n",
    "    con.execute(f\"\"\"\n",
    "        COPY stg_trips TO '../data/bike.parquet/{year}.parquet'\n",
    "    \"\"\")\n",
    "\n",
    "\n"
   ]
  },
  {
   "cell_type": "code",
   "execution_count": 35,
   "id": "49f4529f",
   "metadata": {},
   "outputs": [
    {
     "data": {
      "text/plain": [
       "[('../data/bike.parquet/2024.parquet', 35073137),\n",
       " ('../data/bike.parquet/2023.parquet', 35107030),\n",
       " ('../data/bike.parquet/2025.parquet', 7324003),\n",
       " ('../data/bike.parquet/2020.parquet', 19562314),\n",
       " ('../data/bike.parquet/2021.parquet', 27130122),\n",
       " ('../data/bike.parquet/2022.parquet', 29838806)]"
      ]
     },
     "execution_count": 35,
     "metadata": {},
     "output_type": "execute_result"
    }
   ],
   "source": [
    "con.execute(\"\"\"\n",
    "SELECT filename, COUNT(*) FROM read_parquet('../data/bike.parquet/*', filename=True)\n",
    "GROUP BY filename\n",
    "\"\"\").fetchall()"
   ]
  },
  {
   "cell_type": "code",
   "execution_count": 28,
   "id": "20dc51b7",
   "metadata": {},
   "outputs": [
    {
     "data": {
      "application/vnd.jupyter.widget-view+json": {
       "model_id": "798f1f7e135747e0b74450f0fc16b119",
       "version_major": 2,
       "version_minor": 0
      },
      "text/plain": [
       "FloatProgress(value=0.0, layout=Layout(width='auto'), style=ProgressStyle(bar_color='black'))"
      ]
     },
     "metadata": {},
     "output_type": "display_data"
    },
    {
     "data": {
      "application/vnd.jupyter.widget-view+json": {
       "model_id": "6ba201ea554c473ab6caf7917364bf82",
       "version_major": 2,
       "version_minor": 0
      },
      "text/plain": [
       "FloatProgress(value=0.0, layout=Layout(width='auto'), style=ProgressStyle(bar_color='black'))"
      ]
     },
     "metadata": {},
     "output_type": "display_data"
    },
    {
     "data": {
      "text/plain": [
       "<duckdb.duckdb.DuckDBPyConnection at 0x10f641830>"
      ]
     },
     "execution_count": 28,
     "metadata": {},
     "output_type": "execute_result"
    }
   ],
   "source": [
    "con.execute(\"\"\"\n",
    "        CREATE OR REPLACE TABLE stg_trips_V1 (\n",
    "            ride_id VARCHAR,\n",
    "            rideable_type VARCHAR,\n",
    "            started_at TIMESTAMP,\n",
    "            ended_at TIMESTAMP,\n",
    "            start_station_name VARCHAR,\n",
    "            start_station_id VARCHAR,\n",
    "            end_station_name VARCHAR,\n",
    "            end_station_id VARCHAR,\n",
    "            start_lat DOUBLE,\n",
    "            start_lng DOUBLE,\n",
    "            end_lat DOUBLE,\n",
    "            end_lng DOUBLE,\n",
    "            member_casual VARCHAR\n",
    "        );\n",
    "        \"\"\")\n",
    "\n",
    "con.execute(\"\"\"\n",
    "        CREATE OR REPLACE TABLE stg_trips_V2 (\n",
    "            \"0\" VARCHAR,\n",
    "            ride_id VARCHAR,\n",
    "            rideable_type VARCHAR,\n",
    "            started_at TIMESTAMP,\n",
    "            ended_at TIMESTAMP,\n",
    "            start_station_name VARCHAR,\n",
    "            start_station_id VARCHAR,\n",
    "            end_station_name VARCHAR,\n",
    "            end_station_id VARCHAR,\n",
    "            start_lat DOUBLE,\n",
    "            start_lng DOUBLE,\n",
    "            end_lat DOUBLE,\n",
    "            end_lng DOUBLE,\n",
    "            member_casual VARCHAR\n",
    "        );\n",
    "        \"\"\")\n",
    "\n",
    "con.execute(f\"\"\"\n",
    "        COPY stg_trips_V1 FROM '../data/bike.csv/2024/*.csv'\n",
    "        (DELIMITER ',', HEADER, NULL '', ENCODING 'utf8');\n",
    "        \"\"\")\n",
    "\n",
    "con.execute(f\"\"\"\n",
    "        COPY stg_trips_V2 FROM '../data/bike.csv/2024v2/*.csv'\n",
    "        (DELIMITER ',', HEADER, NULL '', ENCODING 'utf8');\n",
    "        \"\"\")"
   ]
  },
  {
   "cell_type": "code",
   "execution_count": 32,
   "id": "c8833f1c",
   "metadata": {},
   "outputs": [
    {
     "data": {
      "text/plain": [
       "[(35073137,), (9326471,)]"
      ]
     },
     "execution_count": 32,
     "metadata": {},
     "output_type": "execute_result"
    }
   ],
   "source": [
    "con.execute(\"\"\"\n",
    "SELECT COUNT(*) FROM stg_trips_V1\n",
    "UNION ALL\n",
    "SELECT COUNT(*) FROM stg_trips_V2\n",
    "\"\"\").fetchall()"
   ]
  },
  {
   "cell_type": "code",
   "execution_count": null,
   "id": "94188de6",
   "metadata": {},
   "outputs": [],
   "source": []
  },
  {
   "cell_type": "code",
   "execution_count": 36,
   "id": "0b27e290",
   "metadata": {},
   "outputs": [
    {
     "data": {
      "application/vnd.jupyter.widget-view+json": {
       "model_id": "609d5d29aa404bc185f23c0fcae8f7c5",
       "version_major": 2,
       "version_minor": 0
      },
      "text/plain": [
       "FloatProgress(value=0.0, layout=Layout(width='auto'), style=ProgressStyle(bar_color='black'))"
      ]
     },
     "metadata": {},
     "output_type": "display_data"
    },
    {
     "data": {
      "text/plain": [
       "<duckdb.duckdb.DuckDBPyConnection at 0x10f641830>"
      ]
     },
     "execution_count": 36,
     "metadata": {},
     "output_type": "execute_result"
    }
   ],
   "source": [
    "con.execute(\"\"\"\n",
    "COPY (\n",
    "SELECT * FROM stg_trips_V1\n",
    "UNION ALL\n",
    "SELECT * EXCLUDE(\"0\") FROM stg_trips_V2\n",
    ")TO '../data/bike.parquet/2024.parquet'\n",
    "\"\"\")"
   ]
  },
  {
   "cell_type": "code",
   "execution_count": 37,
   "id": "5c96f701",
   "metadata": {},
   "outputs": [
    {
     "data": {
      "text/plain": [
       "[('../data/bike.parquet/2024.parquet', 44399608),\n",
       " ('../data/bike.parquet/2022.parquet', 29838806),\n",
       " ('../data/bike.parquet/2020.parquet', 19562314),\n",
       " ('../data/bike.parquet/2021.parquet', 27130122),\n",
       " ('../data/bike.parquet/2023.parquet', 35107030),\n",
       " ('../data/bike.parquet/2025.parquet', 7324003)]"
      ]
     },
     "execution_count": 37,
     "metadata": {},
     "output_type": "execute_result"
    }
   ],
   "source": [
    "con.execute(\"\"\"\n",
    "SELECT filename, COUNT(*) FROM read_parquet('../data/bike.parquet/*', filename=True)\n",
    "GROUP BY filename\n",
    "\"\"\").fetchall()"
   ]
  },
  {
   "cell_type": "code",
   "execution_count": 38,
   "id": "a853125c",
   "metadata": {},
   "outputs": [
    {
     "data": {
      "text/plain": [
       "[('../data/bike.parquet/2024.parquet', 44399608),\n",
       " ('../data/bike.parquet/2020.parquet', 19562314),\n",
       " ('../data/bike.parquet/2021.parquet', 27130122),\n",
       " ('../data/bike.parquet/2023.parquet', 35107030),\n",
       " ('../data/bike.parquet/2025.parquet', 7324003),\n",
       " ('../data/bike.parquet/2022.parquet', 29838806)]"
      ]
     },
     "execution_count": 38,
     "metadata": {},
     "output_type": "execute_result"
    }
   ],
   "source": [
    "#Let's build a view based on the parquet files\n",
    "con.execute(\"\"\"\n",
    "CREATE OR REPLACE VIEW trips_view  AS   \n",
    "SELECT * FROM read_parquet('../data/bike.parquet/*', filename=True)\n",
    "\"\"\")\n",
    "con.execute(\"\"\"\n",
    "SELECT filename, COUNT(*) FROM trips_view\n",
    "GROUP BY filename\n",
    "\"\"\").fetchall()"
   ]
  },
  {
   "cell_type": "code",
   "execution_count": 39,
   "id": "96339cff",
   "metadata": {},
   "outputs": [
    {
     "data": {
      "text/plain": [
       "[('stg_trips',), ('stg_trips_V1',), ('stg_trips_V2',), ('trips_view',)]"
      ]
     },
     "execution_count": 39,
     "metadata": {},
     "output_type": "execute_result"
    }
   ],
   "source": [
    "con.execute(\"\"\" SHOW TABLES; \"\"\").fetchall()"
   ]
  },
  {
   "cell_type": "code",
   "execution_count": 43,
   "id": "ab9fbc53",
   "metadata": {},
   "outputs": [
    {
     "data": {
      "text/plain": [
       "[('ride_id', 'VARCHAR', 'YES', None, None, None),\n",
       " ('rideable_type', 'VARCHAR', 'YES', None, None, None),\n",
       " ('started_at', 'TIMESTAMP', 'YES', None, None, None),\n",
       " ('ended_at', 'TIMESTAMP', 'YES', None, None, None),\n",
       " ('start_station_name', 'VARCHAR', 'YES', None, None, None),\n",
       " ('start_station_id', 'VARCHAR', 'YES', None, None, None),\n",
       " ('end_station_name', 'VARCHAR', 'YES', None, None, None),\n",
       " ('end_station_id', 'VARCHAR', 'YES', None, None, None),\n",
       " ('start_lat', 'DOUBLE', 'YES', None, None, None),\n",
       " ('start_lng', 'DOUBLE', 'YES', None, None, None),\n",
       " ('end_lat', 'DOUBLE', 'YES', None, None, None),\n",
       " ('end_lng', 'DOUBLE', 'YES', None, None, None),\n",
       " ('member_casual', 'VARCHAR', 'YES', None, None, None),\n",
       " ('filename', 'VARCHAR', 'YES', None, None, None)]"
      ]
     },
     "execution_count": 43,
     "metadata": {},
     "output_type": "execute_result"
    }
   ],
   "source": [
    "con.execute(\"DESCRIBE trips_view\").fetchall()"
   ]
  },
  {
   "cell_type": "code",
   "execution_count": 46,
   "id": "14af77aa",
   "metadata": {},
   "outputs": [
    {
     "name": "stdout",
     "output_type": "stream",
     "text": [
      "260 ms ± 2.33 ms per loop (mean ± std. dev. of 7 runs, 1 loop each)\n"
     ]
    }
   ],
   "source": [
    "%%timeit\n",
    "con.execute(f\"\"\" SELECT COUNT(*) FROM trips_view WHERE start_station_id = '5788.12' \"\"\").fetchall()"
   ]
  },
  {
   "cell_type": "code",
   "execution_count": null,
   "id": "eb47c6e0",
   "metadata": {},
   "outputs": [],
   "source": []
  },
  {
   "cell_type": "code",
   "execution_count": 51,
   "id": "205cce61",
   "metadata": {},
   "outputs": [
    {
     "ename": "ConversionException",
     "evalue": "Conversion Error: CSV Error on Line: 108117\nOriginal Line: CC6690970EF5B9AD,classic_bike,2021-01-28 15:02:30.592,2021-01-28 15:12:21.970,Pier 40 Dock Station,SYS035,Carmine St & 6 Ave,5763.03,40.72866,-74.01198,40.730386,-74.00215,member\nError when converting column \"start_station_id\". Could not convert string \"SYS035\" to 'DOUBLE'\n\nColumn start_station_id is being converted as type DOUBLE\nThis type was auto-detected from the CSV file.\nPossible solutions:\n* Override the type for this column manually by setting the type explicitly, e.g. types={'start_station_id': 'VARCHAR'}\n* Set the sample size to a larger value to enable the auto-detection to scan more values, e.g. sample_size=-1\n* Use a COPY statement to automatically derive types from an existing table.\n\n  file = ../data/bike.csv/2021/202101-citibike-tripdata_1.csv\n  delimiter = , (Auto-Detected)\n  quote = \" (Auto-Detected)\n  escape = \" (Auto-Detected)\n  new_line = \\n (Auto-Detected)\n  header = true (Auto-Detected)\n  skip_rows = 0 (Auto-Detected)\n  comment = \\0 (Auto-Detected)\n  date_format =  (Auto-Detected)\n  timestamp_format =  (Auto-Detected)\n  null_padding = 0\n  sample_size = 20480\n  ignore_errors = false\n  all_varchar = 0\n\n",
     "output_type": "error",
     "traceback": [
      "\u001b[0;31m---------------------------------------------------------------------------\u001b[0m",
      "\u001b[0;31mConversionException\u001b[0m                       Traceback (most recent call last)",
      "Cell \u001b[0;32mIn[51], line 1\u001b[0m\n\u001b[0;32m----> 1\u001b[0m \u001b[43mcon\u001b[49m\u001b[38;5;241;43m.\u001b[39;49m\u001b[43mexecute\u001b[49m\u001b[43m(\u001b[49m\u001b[38;5;124;43mf\u001b[39;49m\u001b[38;5;124;43m\"\"\"\u001b[39;49m\u001b[38;5;124;43m SELECT COUNT(*) FROM read_csv_auto(\u001b[39;49m\u001b[38;5;124;43m'\u001b[39;49m\u001b[38;5;124;43m../data/bike.csv/2021/*.csv\u001b[39;49m\u001b[38;5;124;43m'\u001b[39;49m\u001b[38;5;124;43m) WHERE start_station_id = \u001b[39;49m\u001b[38;5;124;43m'\u001b[39;49m\u001b[38;5;124;43m5788.12\u001b[39;49m\u001b[38;5;124;43m'\u001b[39;49m\u001b[38;5;124;43m \u001b[39;49m\u001b[38;5;124;43m\"\"\"\u001b[39;49m\u001b[43m)\u001b[49m\u001b[38;5;241m.\u001b[39mfetchall()\n",
      "\u001b[0;31mConversionException\u001b[0m: Conversion Error: CSV Error on Line: 108117\nOriginal Line: CC6690970EF5B9AD,classic_bike,2021-01-28 15:02:30.592,2021-01-28 15:12:21.970,Pier 40 Dock Station,SYS035,Carmine St & 6 Ave,5763.03,40.72866,-74.01198,40.730386,-74.00215,member\nError when converting column \"start_station_id\". Could not convert string \"SYS035\" to 'DOUBLE'\n\nColumn start_station_id is being converted as type DOUBLE\nThis type was auto-detected from the CSV file.\nPossible solutions:\n* Override the type for this column manually by setting the type explicitly, e.g. types={'start_station_id': 'VARCHAR'}\n* Set the sample size to a larger value to enable the auto-detection to scan more values, e.g. sample_size=-1\n* Use a COPY statement to automatically derive types from an existing table.\n\n  file = ../data/bike.csv/2021/202101-citibike-tripdata_1.csv\n  delimiter = , (Auto-Detected)\n  quote = \" (Auto-Detected)\n  escape = \" (Auto-Detected)\n  new_line = \\n (Auto-Detected)\n  header = true (Auto-Detected)\n  skip_rows = 0 (Auto-Detected)\n  comment = \\0 (Auto-Detected)\n  date_format =  (Auto-Detected)\n  timestamp_format =  (Auto-Detected)\n  null_padding = 0\n  sample_size = 20480\n  ignore_errors = false\n  all_varchar = 0\n\n"
     ]
    }
   ],
   "source": [
    "con.execute(f\"\"\" SELECT COUNT(*) FROM read_csv_auto('../data/bike.csv/2021/*.csv') WHERE start_station_id = '5788.12' \"\"\").fetchall()"
   ]
  },
  {
   "cell_type": "code",
   "execution_count": 52,
   "id": "f7a96fa6",
   "metadata": {},
   "outputs": [],
   "source": [
    "con.close()"
   ]
  }
 ],
 "metadata": {
  "kernelspec": {
   "display_name": "py312",
   "language": "python",
   "name": "python3"
  },
  "language_info": {
   "codemirror_mode": {
    "name": "ipython",
    "version": 3
   },
   "file_extension": ".py",
   "mimetype": "text/x-python",
   "name": "python",
   "nbconvert_exporter": "python",
   "pygments_lexer": "ipython3",
   "version": "3.12.0"
  }
 },
 "nbformat": 4,
 "nbformat_minor": 5
}
